{
 "cells": [
  {
   "cell_type": "markdown",
   "id": "dde858bc-4b08-4261-acb4-555b3133db1e",
   "metadata": {},
   "source": [
    "# Assignment 12\n",
    "\n",
    "### Loading Packages"
   ]
  },
  {
   "cell_type": "code",
   "execution_count": 83,
   "id": "5ed85b5c-1df8-47a6-8eec-9c4ee1caba42",
   "metadata": {},
   "outputs": [],
   "source": [
    "from bs4 import BeautifulSoup\n",
    "import urllib\n",
    "import csv\n",
    "import requests\n",
    "import pandas as pd\n",
    "import seaborn as sns \n",
    "import matplotlib.pyplot as plt"
   ]
  },
  {
   "cell_type": "markdown",
   "id": "28c2b8db-8ca3-4ee1-aa28-3d10ef9adec2",
   "metadata": {},
   "source": [
    "### Question 1 \n",
    "\n",
    "1. Write Python code using the BeautifulSoup package to generate the csv output file:\n",
    "    - a) Parse/Scrap the given URL and organize each book information on the webpage in following columns and save the organized information in csv file as an output. (30 points)\n",
    "        - i. Title\n",
    "        - ii. Author(s)\n",
    "        - iii. Publisher\n",
    "        - iv. Release Date\n",
    "       "
   ]
  },
  {
   "cell_type": "code",
   "execution_count": 7,
   "id": "f27eadd0-30c8-4acc-bc9d-eefa831cfb3f",
   "metadata": {},
   "outputs": [],
   "source": [
    "url = \"https://repo.vse.gmu.edu/ait/AIT580/580books.html\""
   ]
  },
  {
   "cell_type": "code",
   "execution_count": 41,
   "id": "2075268e-dca5-43f7-9da2-b6cf14617877",
   "metadata": {},
   "outputs": [
    {
     "name": "stderr",
     "output_type": "stream",
     "text": [
      "/Library/Frameworks/Python.framework/Versions/3.9/lib/python3.9/site-packages/urllib3/connectionpool.py:1013: InsecureRequestWarning: Unverified HTTPS request is being made to host 'repo.vse.gmu.edu'. Adding certificate verification is strongly advised. See: https://urllib3.readthedocs.io/en/latest/advanced-usage.html#ssl-warnings\n",
      "  warnings.warn(\n"
     ]
    },
    {
     "data": {
      "text/plain": [
       "<Response [200]>"
      ]
     },
     "execution_count": 41,
     "metadata": {},
     "output_type": "execute_result"
    }
   ],
   "source": [
    "page = requests.get(url , verify = False)\n",
    "page"
   ]
  },
  {
   "cell_type": "code",
   "execution_count": 42,
   "id": "40c4e444-bbab-4364-b5a7-dd68926013ba",
   "metadata": {},
   "outputs": [],
   "source": [
    "## Extracting Table \n",
    "soup = BeautifulSoup(page.text, 'html.parser')\n",
    "table = soup.find('table')"
   ]
  },
  {
   "cell_type": "code",
   "execution_count": 67,
   "id": "1a1ad78b-e1ef-4b32-9207-87fce4a74837",
   "metadata": {},
   "outputs": [],
   "source": [
    "## Function to extract rows\n",
    "def extract_row(value):\n",
    "    row = []\n",
    "    for row_value in value.find_all('td'): \n",
    "        row.append(row_value.text.strip())\n",
    "    return row"
   ]
  },
  {
   "cell_type": "code",
   "execution_count": 68,
   "id": "06b076dc-67c0-49e7-b325-884c5d307066",
   "metadata": {},
   "outputs": [],
   "source": [
    "## Extract Columns\n",
    "col = []\n",
    "for tbl in table.tbody.find_all('tr'): \n",
    "    col.append(extract_row(tbl))"
   ]
  },
  {
   "cell_type": "code",
   "execution_count": 95,
   "id": "79ac7eb6-fe3b-4045-a4a6-aacfaf3ace82",
   "metadata": {},
   "outputs": [],
   "source": [
    "## Creating Pandas DataFrame\n",
    "df = pd.DataFrame(col)\n",
    "df.columns = df.iloc[0]\n",
    "df = df.drop(0, axis= 0)\n",
    "df.to_csv(\"ExtractedFile.csv\" , index = False)"
   ]
  },
  {
   "cell_type": "markdown",
   "id": "8159e4bc-8cd7-4f2e-8743-b4d9bf8d14a3",
   "metadata": {},
   "source": [
    "### Question 2\n",
    "\n",
    "1. Read the output csv file from part 1 and write python code to answer the following question. You can use Pandas Package in python. (20 points)\n",
    "    - a. Print the frequency count for publishers (that is, how many books for each publisher).\n",
    "    - b. Visualize the output of (a) using a chart of your own choice.\n",
    "    - c. Print the frequency count for year of publication.\n",
    "    - d. Visualize the output of (b) using a chart of your own choice"
   ]
  },
  {
   "cell_type": "code",
   "execution_count": 97,
   "id": "84dddc84-7b97-49d6-a4a3-d1fdfc125d5a",
   "metadata": {},
   "outputs": [],
   "source": [
    "data = pd.read_csv('ExtractedFile.csv')"
   ]
  },
  {
   "cell_type": "code",
   "execution_count": 106,
   "id": "0d82bd0a-e1ea-4f22-9f26-f78eb2c03ec8",
   "metadata": {},
   "outputs": [
    {
     "data": {
      "text/html": [
       "<div>\n",
       "<style scoped>\n",
       "    .dataframe tbody tr th:only-of-type {\n",
       "        vertical-align: middle;\n",
       "    }\n",
       "\n",
       "    .dataframe tbody tr th {\n",
       "        vertical-align: top;\n",
       "    }\n",
       "\n",
       "    .dataframe thead th {\n",
       "        text-align: right;\n",
       "    }\n",
       "</style>\n",
       "<table border=\"1\" class=\"dataframe\">\n",
       "  <thead>\n",
       "    <tr style=\"text-align: right;\">\n",
       "      <th></th>\n",
       "      <th>index</th>\n",
       "      <th>Publisher</th>\n",
       "    </tr>\n",
       "  </thead>\n",
       "  <tbody>\n",
       "    <tr>\n",
       "      <th>0</th>\n",
       "      <td>O'Reilly Media</td>\n",
       "      <td>4</td>\n",
       "    </tr>\n",
       "    <tr>\n",
       "      <th>1</th>\n",
       "      <td>Packt Publishing</td>\n",
       "      <td>2</td>\n",
       "    </tr>\n",
       "    <tr>\n",
       "      <th>2</th>\n",
       "      <td>Maker Media, Inc</td>\n",
       "      <td>1</td>\n",
       "    </tr>\n",
       "    <tr>\n",
       "      <th>3</th>\n",
       "      <td>Elsevier / Syngress</td>\n",
       "      <td>1</td>\n",
       "    </tr>\n",
       "    <tr>\n",
       "      <th>4</th>\n",
       "      <td>No Starch Press</td>\n",
       "      <td>1</td>\n",
       "    </tr>\n",
       "    <tr>\n",
       "      <th>5</th>\n",
       "      <td>Pragmatic Bookshelf</td>\n",
       "      <td>1</td>\n",
       "    </tr>\n",
       "  </tbody>\n",
       "</table>\n",
       "</div>"
      ],
      "text/plain": [
       "                 index  Publisher\n",
       "0       O'Reilly Media          4\n",
       "1     Packt Publishing          2\n",
       "2     Maker Media, Inc          1\n",
       "3  Elsevier / Syngress          1\n",
       "4      No Starch Press          1\n",
       "5  Pragmatic Bookshelf          1"
      ]
     },
     "execution_count": 106,
     "metadata": {},
     "output_type": "execute_result"
    }
   ],
   "source": [
    "# Print the frequency count for publishers (that is, how many books for each publisher).\n",
    "PubFreq_df = pd.DataFrame(data.Publisher.value_counts())\n",
    "PubFreq_df = PubFreq_df.reset_index()\n",
    "PubFreq_df"
   ]
  },
  {
   "cell_type": "code",
   "execution_count": 107,
   "id": "e5aff21b-c343-434e-85ad-2c9ae9389e3f",
   "metadata": {},
   "outputs": [
    {
     "data": {
      "text/plain": [
       "Text(0.5, 1.0, 'Bar Chart (Publisher)')"
      ]
     },
     "execution_count": 107,
     "metadata": {},
     "output_type": "execute_result"
    },
    {
     "data": {
      "image/png": "[encoded data removed]",
      "text/plain": [
       "<Figure size 1080x432 with 1 Axes>"
      ]
     },
     "metadata": {
      "needs_background": "light"
     },
     "output_type": "display_data"
    }
   ],
   "source": [
    "## Visualize the output of (a) using a chart of your own choice.\n",
    "plt.figure(figsize = (15, 6))\n",
    "sns.barplot(x = 'index' , y = 'Publisher' , data= PubFreq_df)\n",
    "plt.title(\"Bar Chart (Publisher)\")"
   ]
  },
  {
   "cell_type": "code",
   "execution_count": 100,
   "id": "170a441c-3669-46d5-915d-d321b5dffe5c",
   "metadata": {},
   "outputs": [
    {
     "data": {
      "text/html": [
       "<div>\n",
       "<style scoped>\n",
       "    .dataframe tbody tr th:only-of-type {\n",
       "        vertical-align: middle;\n",
       "    }\n",
       "\n",
       "    .dataframe tbody tr th {\n",
       "        vertical-align: top;\n",
       "    }\n",
       "\n",
       "    .dataframe thead th {\n",
       "        text-align: right;\n",
       "    }\n",
       "</style>\n",
       "<table border=\"1\" class=\"dataframe\">\n",
       "  <thead>\n",
       "    <tr style=\"text-align: right;\">\n",
       "      <th></th>\n",
       "      <th>index</th>\n",
       "      <th>PubDate</th>\n",
       "    </tr>\n",
       "  </thead>\n",
       "  <tbody>\n",
       "    <tr>\n",
       "      <th>0</th>\n",
       "      <td>May 2017</td>\n",
       "      <td>2</td>\n",
       "    </tr>\n",
       "    <tr>\n",
       "      <th>1</th>\n",
       "      <td>December 2016</td>\n",
       "      <td>1</td>\n",
       "    </tr>\n",
       "    <tr>\n",
       "      <th>2</th>\n",
       "      <td>June 2013</td>\n",
       "      <td>1</td>\n",
       "    </tr>\n",
       "    <tr>\n",
       "      <th>3</th>\n",
       "      <td>September 2016</td>\n",
       "      <td>1</td>\n",
       "    </tr>\n",
       "    <tr>\n",
       "      <th>4</th>\n",
       "      <td>November 2017</td>\n",
       "      <td>1</td>\n",
       "    </tr>\n",
       "    <tr>\n",
       "      <th>5</th>\n",
       "      <td>April 2017</td>\n",
       "      <td>1</td>\n",
       "    </tr>\n",
       "    <tr>\n",
       "      <th>6</th>\n",
       "      <td>November 2016</td>\n",
       "      <td>1</td>\n",
       "    </tr>\n",
       "    <tr>\n",
       "      <th>7</th>\n",
       "      <td>August 2016</td>\n",
       "      <td>1</td>\n",
       "    </tr>\n",
       "    <tr>\n",
       "      <th>8</th>\n",
       "      <td>September 2017</td>\n",
       "      <td>1</td>\n",
       "    </tr>\n",
       "  </tbody>\n",
       "</table>\n",
       "</div>"
      ],
      "text/plain": [
       "            index  PubDate\n",
       "0        May 2017        2\n",
       "1   December 2016        1\n",
       "2       June 2013        1\n",
       "3  September 2016        1\n",
       "4   November 2017        1\n",
       "5      April 2017        1\n",
       "6   November 2016        1\n",
       "7     August 2016        1\n",
       "8  September 2017        1"
      ]
     },
     "execution_count": 100,
     "metadata": {},
     "output_type": "execute_result"
    }
   ],
   "source": [
    "# Print the frequency count for year of publication.\n",
    "\n",
    "freq_df = pd.DataFrame(data.PubDate.value_counts())\n",
    "freq_df = freq_df.reset_index()\n",
    "freq_df"
   ]
  },
  {
   "cell_type": "code",
   "execution_count": 103,
   "id": "b5fc35d8-ede9-40a2-8b66-bd623a3452f3",
   "metadata": {},
   "outputs": [
    {
     "data": {
      "text/plain": [
       "Text(0.5, 1.0, 'Bar Chart (Publication Year)')"
      ]
     },
     "execution_count": 103,
     "metadata": {},
     "output_type": "execute_result"
    },
    {
     "data": {
      "image/png": "[encoded data removed]",
      "text/plain": [
       "<Figure size 1080x432 with 1 Axes>"
      ]
     },
     "metadata": {
      "needs_background": "light"
     },
     "output_type": "display_data"
    }
   ],
   "source": [
    "## Visualize the output of (a) using a chart of your own choice.\n",
    "plt.figure(figsize = (15, 6))\n",
    "sns.barplot(x = 'index' , y = 'PubDate' , data= freq_df)\n",
    "plt.title(\"Bar Chart (Publication Year)\")"
   ]
  }
 ],
 "metadata": {
  "kernelspec": {
   "display_name": "Python 3",
   "language": "python",
   "name": "python3"
  },
  "language_info": {
   "codemirror_mode": {
    "name": "ipython",
    "version": 3
   },
   "file_extension": ".py",
   "mimetype": "text/x-python",
   "name": "python",
   "nbconvert_exporter": "python",
   "pygments_lexer": "ipython3",
   "version": "3.9.5"
  }
 },
 "nbformat": 4,
 "nbformat_minor": 5
}
